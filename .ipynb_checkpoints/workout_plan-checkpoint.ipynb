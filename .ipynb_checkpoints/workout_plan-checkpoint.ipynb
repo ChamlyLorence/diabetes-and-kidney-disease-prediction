{
 "cells": [
  {
   "cell_type": "code",
   "execution_count": 19,
   "metadata": {},
   "outputs": [],
   "source": [
    "import pandas as pd\n",
    "from sklearn.preprocessing import LabelEncoder"
   ]
  },
  {
   "cell_type": "code",
   "execution_count": 20,
   "metadata": {},
   "outputs": [
    {
     "data": {
      "text/html": [
       "<div>\n",
       "<style scoped>\n",
       "    .dataframe tbody tr th:only-of-type {\n",
       "        vertical-align: middle;\n",
       "    }\n",
       "\n",
       "    .dataframe tbody tr th {\n",
       "        vertical-align: top;\n",
       "    }\n",
       "\n",
       "    .dataframe thead th {\n",
       "        text-align: right;\n",
       "    }\n",
       "</style>\n",
       "<table border=\"1\" class=\"dataframe\">\n",
       "  <thead>\n",
       "    <tr style=\"text-align: right;\">\n",
       "      <th></th>\n",
       "      <th>Age</th>\n",
       "      <th>Gender</th>\n",
       "      <th>BMI</th>\n",
       "      <th>workout_plan</th>\n",
       "    </tr>\n",
       "  </thead>\n",
       "  <tbody>\n",
       "    <tr>\n",
       "      <th>0</th>\n",
       "      <td>47</td>\n",
       "      <td>Male</td>\n",
       "      <td>20.2</td>\n",
       "      <td>p1.0</td>\n",
       "    </tr>\n",
       "    <tr>\n",
       "      <th>1</th>\n",
       "      <td>50</td>\n",
       "      <td>Male</td>\n",
       "      <td>20.2</td>\n",
       "      <td>p1.0</td>\n",
       "    </tr>\n",
       "    <tr>\n",
       "      <th>2</th>\n",
       "      <td>52</td>\n",
       "      <td>Male</td>\n",
       "      <td>21.2</td>\n",
       "      <td>p1.0</td>\n",
       "    </tr>\n",
       "    <tr>\n",
       "      <th>3</th>\n",
       "      <td>52</td>\n",
       "      <td>Male</td>\n",
       "      <td>21.2</td>\n",
       "      <td>p1.0</td>\n",
       "    </tr>\n",
       "    <tr>\n",
       "      <th>4</th>\n",
       "      <td>53</td>\n",
       "      <td>Male</td>\n",
       "      <td>21.2</td>\n",
       "      <td>p1.0</td>\n",
       "    </tr>\n",
       "    <tr>\n",
       "      <th>...</th>\n",
       "      <td>...</td>\n",
       "      <td>...</td>\n",
       "      <td>...</td>\n",
       "      <td>...</td>\n",
       "    </tr>\n",
       "    <tr>\n",
       "      <th>509</th>\n",
       "      <td>47</td>\n",
       "      <td>Female</td>\n",
       "      <td>30.9</td>\n",
       "      <td>p3.9</td>\n",
       "    </tr>\n",
       "    <tr>\n",
       "      <th>510</th>\n",
       "      <td>55</td>\n",
       "      <td>Male</td>\n",
       "      <td>32.5</td>\n",
       "      <td>p3.9</td>\n",
       "    </tr>\n",
       "    <tr>\n",
       "      <th>511</th>\n",
       "      <td>55</td>\n",
       "      <td>Male</td>\n",
       "      <td>32.5</td>\n",
       "      <td>p3.9</td>\n",
       "    </tr>\n",
       "    <tr>\n",
       "      <th>512</th>\n",
       "      <td>56</td>\n",
       "      <td>Male</td>\n",
       "      <td>32.5</td>\n",
       "      <td>p3.9</td>\n",
       "    </tr>\n",
       "    <tr>\n",
       "      <th>513</th>\n",
       "      <td>53</td>\n",
       "      <td>Male</td>\n",
       "      <td>32.7</td>\n",
       "      <td>p3.9</td>\n",
       "    </tr>\n",
       "  </tbody>\n",
       "</table>\n",
       "<p>514 rows × 4 columns</p>\n",
       "</div>"
      ],
      "text/plain": [
       "     Age  Gender   BMI workout_plan\n",
       "0     47    Male  20.2         p1.0\n",
       "1     50    Male  20.2         p1.0\n",
       "2     52    Male  21.2         p1.0\n",
       "3     52    Male  21.2         p1.0\n",
       "4     53    Male  21.2         p1.0\n",
       "..   ...     ...   ...          ...\n",
       "509   47  Female  30.9         p3.9\n",
       "510   55    Male  32.5         p3.9\n",
       "511   55    Male  32.5         p3.9\n",
       "512   56    Male  32.5         p3.9\n",
       "513   53    Male  32.7         p3.9\n",
       "\n",
       "[514 rows x 4 columns]"
      ]
     },
     "execution_count": 20,
     "metadata": {},
     "output_type": "execute_result"
    }
   ],
   "source": [
    "df = pd.read_csv(\"workout_plan.csv\")\n",
    "df"
   ]
  },
  {
   "cell_type": "code",
   "execution_count": 21,
   "metadata": {},
   "outputs": [
    {
     "data": {
      "text/html": [
       "<div>\n",
       "<style scoped>\n",
       "    .dataframe tbody tr th:only-of-type {\n",
       "        vertical-align: middle;\n",
       "    }\n",
       "\n",
       "    .dataframe tbody tr th {\n",
       "        vertical-align: top;\n",
       "    }\n",
       "\n",
       "    .dataframe thead th {\n",
       "        text-align: right;\n",
       "    }\n",
       "</style>\n",
       "<table border=\"1\" class=\"dataframe\">\n",
       "  <thead>\n",
       "    <tr style=\"text-align: right;\">\n",
       "      <th></th>\n",
       "      <th>Age</th>\n",
       "      <th>Gender</th>\n",
       "      <th>BMI</th>\n",
       "      <th>workout_plan</th>\n",
       "      <th>workout_plan_le</th>\n",
       "    </tr>\n",
       "  </thead>\n",
       "  <tbody>\n",
       "    <tr>\n",
       "      <th>0</th>\n",
       "      <td>47</td>\n",
       "      <td>1</td>\n",
       "      <td>20.2</td>\n",
       "      <td>1</td>\n",
       "      <td>p1.0</td>\n",
       "    </tr>\n",
       "    <tr>\n",
       "      <th>1</th>\n",
       "      <td>50</td>\n",
       "      <td>1</td>\n",
       "      <td>20.2</td>\n",
       "      <td>1</td>\n",
       "      <td>p1.0</td>\n",
       "    </tr>\n",
       "    <tr>\n",
       "      <th>2</th>\n",
       "      <td>52</td>\n",
       "      <td>1</td>\n",
       "      <td>21.2</td>\n",
       "      <td>1</td>\n",
       "      <td>p1.0</td>\n",
       "    </tr>\n",
       "    <tr>\n",
       "      <th>3</th>\n",
       "      <td>52</td>\n",
       "      <td>1</td>\n",
       "      <td>21.2</td>\n",
       "      <td>1</td>\n",
       "      <td>p1.0</td>\n",
       "    </tr>\n",
       "    <tr>\n",
       "      <th>4</th>\n",
       "      <td>53</td>\n",
       "      <td>1</td>\n",
       "      <td>21.2</td>\n",
       "      <td>1</td>\n",
       "      <td>p1.0</td>\n",
       "    </tr>\n",
       "    <tr>\n",
       "      <th>5</th>\n",
       "      <td>22</td>\n",
       "      <td>0</td>\n",
       "      <td>21.5</td>\n",
       "      <td>1</td>\n",
       "      <td>p1.0</td>\n",
       "    </tr>\n",
       "    <tr>\n",
       "      <th>6</th>\n",
       "      <td>30</td>\n",
       "      <td>0</td>\n",
       "      <td>21.5</td>\n",
       "      <td>1</td>\n",
       "      <td>p1.0</td>\n",
       "    </tr>\n",
       "    <tr>\n",
       "      <th>7</th>\n",
       "      <td>48</td>\n",
       "      <td>0</td>\n",
       "      <td>21.9</td>\n",
       "      <td>1</td>\n",
       "      <td>p1.0</td>\n",
       "    </tr>\n",
       "    <tr>\n",
       "      <th>8</th>\n",
       "      <td>48</td>\n",
       "      <td>0</td>\n",
       "      <td>21.9</td>\n",
       "      <td>1</td>\n",
       "      <td>p1.0</td>\n",
       "    </tr>\n",
       "    <tr>\n",
       "      <th>9</th>\n",
       "      <td>50</td>\n",
       "      <td>0</td>\n",
       "      <td>22.0</td>\n",
       "      <td>1</td>\n",
       "      <td>p1.0</td>\n",
       "    </tr>\n",
       "  </tbody>\n",
       "</table>\n",
       "</div>"
      ],
      "text/plain": [
       "   Age  Gender   BMI  workout_plan workout_plan_le\n",
       "0   47       1  20.2             1            p1.0\n",
       "1   50       1  20.2             1            p1.0\n",
       "2   52       1  21.2             1            p1.0\n",
       "3   52       1  21.2             1            p1.0\n",
       "4   53       1  21.2             1            p1.0\n",
       "5   22       0  21.5             1            p1.0\n",
       "6   30       0  21.5             1            p1.0\n",
       "7   48       0  21.9             1            p1.0\n",
       "8   48       0  21.9             1            p1.0\n",
       "9   50       0  22.0             1            p1.0"
      ]
     },
     "execution_count": 21,
     "metadata": {},
     "output_type": "execute_result"
    }
   ],
   "source": [
    "le = LabelEncoder()\n",
    "data = df \n",
    "\n",
    "data[\"Gender\"] = le.fit_transform(df[\"Gender\"])\n",
    "   \n",
    "data.head(50)\n",
    "le1 = LabelEncoder()\n",
    "le1.fit(df[\"workout_plan\"] )\n",
    "data[\"workout_plan\"] = le1.transform(df[\"workout_plan\"] )\n",
    "data[\"workout_plan_le\"] = le1.inverse_transform(df[\"workout_plan\"])\n",
    "data.head(10)"
   ]
  },
  {
   "cell_type": "code",
   "execution_count": 36,
   "metadata": {},
   "outputs": [
    {
     "data": {
      "text/plain": [
       "[{'workout_plan': 1, 'workout_plan_le': 'p1.0'},\n",
       " {'workout_plan': 2, 'workout_plan_le': 'p1.1'},\n",
       " {'workout_plan': 3, 'workout_plan_le': 'p1.10'},\n",
       " {'workout_plan': 4, 'workout_plan_le': 'p1.2'},\n",
       " {'workout_plan': 5, 'workout_plan_le': 'p1.3'},\n",
       " {'workout_plan': 6, 'workout_plan_le': 'p1.4'},\n",
       " {'workout_plan': 7, 'workout_plan_le': 'p1.5'},\n",
       " {'workout_plan': 8, 'workout_plan_le': 'p1.6'},\n",
       " {'workout_plan': 0, 'workout_plan_le': 'P1.7'},\n",
       " {'workout_plan': 9, 'workout_plan_le': 'p1.8'},\n",
       " {'workout_plan': 10, 'workout_plan_le': 'p1.9'},\n",
       " {'workout_plan': 11, 'workout_plan_le': 'p2.0'},\n",
       " {'workout_plan': 12, 'workout_plan_le': 'p2.1'},\n",
       " {'workout_plan': 13, 'workout_plan_le': 'p2.10'},\n",
       " {'workout_plan': 14, 'workout_plan_le': 'p2.2'},\n",
       " {'workout_plan': 15, 'workout_plan_le': 'p2.3'},\n",
       " {'workout_plan': 16, 'workout_plan_le': 'p2.4'},\n",
       " {'workout_plan': 17, 'workout_plan_le': 'p2.5'},\n",
       " {'workout_plan': 18, 'workout_plan_le': 'p2.6'},\n",
       " {'workout_plan': 19, 'workout_plan_le': 'p2.7'},\n",
       " {'workout_plan': 20, 'workout_plan_le': 'p2.8'},\n",
       " {'workout_plan': 21, 'workout_plan_le': 'p2.9'},\n",
       " {'workout_plan': 22, 'workout_plan_le': 'p3.0'},\n",
       " {'workout_plan': 23, 'workout_plan_le': 'p3.1'},\n",
       " {'workout_plan': 24, 'workout_plan_le': 'p3.10'},\n",
       " {'workout_plan': 25, 'workout_plan_le': 'p3.2'},\n",
       " {'workout_plan': 26, 'workout_plan_le': 'p3.3'},\n",
       " {'workout_plan': 27, 'workout_plan_le': 'p3.4'},\n",
       " {'workout_plan': 28, 'workout_plan_le': 'p3.5'},\n",
       " {'workout_plan': 29, 'workout_plan_le': 'p3.6'},\n",
       " {'workout_plan': 30, 'workout_plan_le': 'p3.7'},\n",
       " {'workout_plan': 31, 'workout_plan_le': 'p3.8'},\n",
       " {'workout_plan': 32, 'workout_plan_le': 'p3.9'}]"
      ]
     },
     "execution_count": 36,
     "metadata": {},
     "output_type": "execute_result"
    }
   ],
   "source": [
    "tmp_one = data[[\"workout_plan\",\"workout_plan_le\"]]\n",
    "tmp_two = tmp_one.drop_duplicates(subset = None)\n",
    "tmp_dic = tmp_two.to_dict(\"records\")\n",
    "tmp_dic"
   ]
  },
  {
   "cell_type": "code",
   "execution_count": 23,
   "metadata": {},
   "outputs": [
    {
     "data": {
      "text/plain": [
       "array([[47. ,  1. , 20.2],\n",
       "       [50. ,  1. , 20.2],\n",
       "       [52. ,  1. , 21.2],\n",
       "       ...,\n",
       "       [55. ,  1. , 32.5],\n",
       "       [56. ,  1. , 32.5],\n",
       "       [53. ,  1. , 32.7]])"
      ]
     },
     "execution_count": 23,
     "metadata": {},
     "output_type": "execute_result"
    }
   ],
   "source": [
    "X = df[[ 'Age', 'Gender', 'BMI']].values\n",
    "X"
   ]
  },
  {
   "cell_type": "code",
   "execution_count": 24,
   "metadata": {},
   "outputs": [
    {
     "data": {
      "text/plain": [
       "array([ 1,  1,  1,  1,  1,  1,  1,  1,  1,  1,  1,  1,  1,  1,  1,  1,  1,\n",
       "        1,  2,  2,  2,  2,  2,  2,  2,  2,  2,  2,  2,  2,  2,  2,  2,  2,\n",
       "        2,  3,  3,  3,  3,  3,  3,  3,  3,  3,  3,  3,  3,  3,  4,  4,  4,\n",
       "        4,  4,  4,  4,  4,  4,  4,  4,  4,  4,  4,  4,  4,  4,  4,  4,  4,\n",
       "        4,  5,  5,  5,  5,  5,  5,  5,  5,  5,  5,  5,  5,  5,  5,  5,  5,\n",
       "        5,  5,  5,  5,  5,  5,  5,  5,  6,  6,  6,  6,  6,  6,  6,  6,  6,\n",
       "        6,  6,  6,  6,  6,  6,  6,  7,  7,  7,  7,  7,  7,  7,  7,  7,  7,\n",
       "        7,  7,  7,  7,  7,  8,  8,  8,  8,  8,  8,  8,  8,  8,  8,  8,  8,\n",
       "        8,  0,  0,  0,  0,  0,  0,  0,  0,  0,  0,  0,  0,  0,  0,  0,  0,\n",
       "        9,  9,  9,  9,  9,  9,  9,  9,  9,  9,  9,  9,  9,  9,  9, 10, 10,\n",
       "       10, 10, 10, 10, 10, 10, 10, 10, 10, 11, 11, 11, 11, 11, 11, 11, 11,\n",
       "       11, 11, 11, 11, 11, 11, 11, 11, 11, 11, 11, 11, 11, 11, 11, 12, 12,\n",
       "       12, 12, 12, 12, 12, 12, 12, 12, 12, 12, 12, 12, 12, 12, 12, 12, 12,\n",
       "       12, 13, 13, 13, 13, 13, 13, 13, 13, 13, 13, 13, 13, 13, 13, 13, 13,\n",
       "       13, 13, 13, 14, 14, 14, 14, 14, 14, 14, 14, 14, 14, 14, 14, 14, 14,\n",
       "       14, 14, 14, 14, 14, 14, 14, 15, 15, 15, 15, 15, 15, 15, 15, 15, 15,\n",
       "       15, 15, 15, 15, 15, 15, 15, 15, 15, 15, 16, 16, 16, 16, 16, 16, 16,\n",
       "       16, 16, 16, 16, 16, 16, 16, 16, 16, 16, 16, 16, 16, 16, 16, 16, 16,\n",
       "       17, 17, 17, 17, 17, 17, 17, 17, 17, 17, 17, 17, 17, 17, 17, 17, 17,\n",
       "       17, 17, 17, 18, 18, 18, 18, 18, 18, 18, 18, 18, 18, 18, 18, 18, 18,\n",
       "       18, 18, 18, 19, 19, 19, 19, 19, 19, 19, 19, 19, 19, 19, 19, 19, 19,\n",
       "       19, 20, 20, 20, 20, 20, 20, 20, 20, 20, 20, 20, 20, 20, 20, 21, 21,\n",
       "       21, 21, 21, 21, 21, 21, 21, 21, 21, 21, 22, 22, 22, 22, 22, 22, 22,\n",
       "       22, 22, 22, 22, 22, 22, 22, 22, 23, 23, 23, 23, 23, 23, 23, 23, 23,\n",
       "       23, 23, 23, 24, 24, 24, 24, 24, 24, 24, 24, 25, 25, 25, 25, 25, 25,\n",
       "       25, 25, 25, 25, 25, 25, 25, 25, 26, 26, 26, 26, 26, 26, 26, 26, 26,\n",
       "       26, 26, 26, 26, 26, 26, 26, 27, 27, 27, 27, 27, 27, 27, 27, 27, 27,\n",
       "       27, 27, 27, 27, 28, 28, 28, 28, 28, 28, 28, 28, 28, 28, 28, 28, 29,\n",
       "       29, 29, 29, 29, 29, 29, 29, 29, 29, 30, 30, 30, 30, 30, 30, 30, 30,\n",
       "       30, 30, 30, 30, 31, 31, 31, 31, 31, 31, 31, 31, 31, 31, 32, 32, 32,\n",
       "       32, 32, 32, 32])"
      ]
     },
     "execution_count": 24,
     "metadata": {},
     "output_type": "execute_result"
    }
   ],
   "source": [
    "y = data['workout_plan'].values\n",
    "y"
   ]
  },
  {
   "cell_type": "code",
   "execution_count": 28,
   "metadata": {},
   "outputs": [
    {
     "data": {
      "text/plain": [
       "array([[43. ,  0. , 28.3],\n",
       "       [58. ,  0. , 23.6],\n",
       "       [52. ,  0. , 31.2],\n",
       "       [51. ,  0. , 34.3],\n",
       "       [50. ,  0. , 30.1],\n",
       "       [53. ,  1. , 24.2],\n",
       "       [57. ,  0. , 23.4],\n",
       "       [60. ,  0. , 23.1],\n",
       "       [53. ,  0. , 28.7],\n",
       "       [58. ,  1. , 27.2],\n",
       "       [57. ,  0. , 27.7],\n",
       "       [56. ,  0. , 28.2],\n",
       "       [56. ,  0. , 25.1],\n",
       "       [53. ,  1. , 31.5],\n",
       "       [30. ,  0. , 24.8],\n",
       "       [51. ,  0. , 25. ],\n",
       "       [60. ,  0. , 25.2],\n",
       "       [53. ,  1. , 26.9],\n",
       "       [38. ,  0. , 25.5],\n",
       "       [52. ,  1. , 32.9],\n",
       "       [56. ,  0. , 26.5],\n",
       "       [49. ,  0. , 25.1],\n",
       "       [60. ,  0. , 30.2],\n",
       "       [43. ,  1. , 34.7],\n",
       "       [46. ,  0. , 22.4],\n",
       "       [48. ,  1. , 27.9],\n",
       "       [25. ,  0. , 27.5],\n",
       "       [52. ,  0. , 27.3],\n",
       "       [34. ,  1. , 33.8],\n",
       "       [44. ,  1. , 34.7],\n",
       "       [49. ,  0. , 31.1],\n",
       "       [39. ,  0. , 32.3],\n",
       "       [57. ,  1. , 33.9],\n",
       "       [55. ,  1. , 33.2],\n",
       "       [53. ,  1. , 26.6],\n",
       "       [59. ,  1. , 24.3],\n",
       "       [48. ,  0. , 27.4],\n",
       "       [44. ,  0. , 23.6],\n",
       "       [57. ,  0. , 25.1],\n",
       "       [31. ,  1. , 18.9],\n",
       "       [43. ,  0. , 24.5],\n",
       "       [50. ,  0. , 26.3],\n",
       "       [44. ,  0. , 32.6],\n",
       "       [47. ,  0. , 25.1],\n",
       "       [47. ,  1. , 20.2],\n",
       "       [59. ,  0. , 26.6],\n",
       "       [52. ,  1. , 21.2],\n",
       "       [41. ,  0. , 24.6],\n",
       "       [56. ,  0. , 19.6],\n",
       "       [60. ,  0. , 30.2],\n",
       "       [53. ,  0. , 25.5],\n",
       "       [52. ,  1. , 32.9],\n",
       "       [44. ,  0. , 23.6],\n",
       "       [51. ,  0. , 23.6],\n",
       "       [53. ,  0. , 23.2],\n",
       "       [35. ,  1. , 22.3],\n",
       "       [45. ,  0. , 19.1],\n",
       "       [42. ,  0. , 28.1],\n",
       "       [55. ,  0. , 23.5],\n",
       "       [43. ,  0. , 19.1],\n",
       "       [27. ,  1. , 34.8],\n",
       "       [45. ,  0. , 33.5],\n",
       "       [60. ,  0. , 22.5],\n",
       "       [60. ,  0. , 26.4],\n",
       "       [43. ,  0. , 25.7],\n",
       "       [46. ,  0. , 32.1],\n",
       "       [56. ,  0. , 29.5],\n",
       "       [52. ,  1. , 27.2],\n",
       "       [60. ,  0. , 27.4],\n",
       "       [37. ,  0. , 25.6],\n",
       "       [49. ,  0. , 26.3],\n",
       "       [59. ,  0. , 23.1],\n",
       "       [49. ,  0. , 21.6],\n",
       "       [51. ,  1. , 25.8],\n",
       "       [51. ,  0. , 27.2],\n",
       "       [33. ,  1. , 26.4],\n",
       "       [52. ,  0. , 29. ],\n",
       "       [53. ,  0. , 34.3],\n",
       "       [52. ,  1. , 26.3],\n",
       "       [39. ,  1. , 33.8],\n",
       "       [55. ,  0. , 23.5],\n",
       "       [49. ,  1. , 22.4],\n",
       "       [53. ,  0. , 33.3],\n",
       "       [38. ,  1. , 23.4],\n",
       "       [41. ,  0. , 28.5],\n",
       "       [28. ,  0. , 21.9],\n",
       "       [51. ,  0. , 28.8],\n",
       "       [50. ,  0. , 25.5],\n",
       "       [46. ,  1. , 33.7],\n",
       "       [54. ,  1. , 23.1],\n",
       "       [50. ,  0. , 30.1],\n",
       "       [50. ,  0. , 32.8],\n",
       "       [47. ,  0. , 20.6],\n",
       "       [55. ,  1. , 22.4],\n",
       "       [42. ,  0. , 28.1],\n",
       "       [43. ,  0. , 28.2],\n",
       "       [47. ,  0. , 25. ],\n",
       "       [41. ,  1. , 23.9],\n",
       "       [56. ,  0. , 26.2],\n",
       "       [55. ,  0. , 24.4],\n",
       "       [45. ,  0. , 22.4],\n",
       "       [47. ,  1. , 29.9],\n",
       "       [46. ,  0. , 25.8]])"
      ]
     },
     "execution_count": 28,
     "metadata": {},
     "output_type": "execute_result"
    }
   ],
   "source": [
    "from sklearn.model_selection import train_test_split\n",
    "X_train, X_test, y_train, y_test = train_test_split(X,y,test_size=0.2) \n",
    "X_test"
   ]
  },
  {
   "cell_type": "code",
   "execution_count": 32,
   "metadata": {},
   "outputs": [
    {
     "data": {
      "text/plain": [
       "0.6019417475728155"
      ]
     },
     "execution_count": 32,
     "metadata": {},
     "output_type": "execute_result"
    }
   ],
   "source": [
    "from sklearn.model_selection import RandomizedSearchCV\n",
    "from sklearn.ensemble import RandomForestClassifier\n",
    "model = RandomForestClassifier(n_estimators=15)\n",
    "model.fit(X_train, y_train)\n",
    "model.score(X_test, y_test)"
   ]
  },
  {
   "cell_type": "code",
   "execution_count": 33,
   "metadata": {},
   "outputs": [
    {
     "data": {
      "text/plain": [
       "['model_workout_plan']"
      ]
     },
     "execution_count": 33,
     "metadata": {},
     "output_type": "execute_result"
    }
   ],
   "source": [
    "from sklearn.externals import joblib\n",
    "joblib.dump(model, 'model_workout_plan')"
   ]
  },
  {
   "cell_type": "code",
   "execution_count": 35,
   "metadata": {},
   "outputs": [
    {
     "data": {
      "text/plain": [
       "array([18,  1, 24, 26, 26,  5,  7,  5, 19, 14, 12, 17, 19, 26,  3, 19, 20,\n",
       "       14, 20, 27, 12, 11, 30, 22,  2, 14, 17, 15, 22, 25, 28, 28, 32, 22,\n",
       "       17,  6,  1,  8, 19,  5,  6, 13, 30, 21,  9, 12,  1,  8,  3, 30, 11,\n",
       "       27,  8, 10,  2,  5,  9, 15, 10,  9, 30, 23,  1, 17, 13, 30, 17, 15,\n",
       "       15, 20, 31,  5,  0, 11, 15, 21, 16, 31, 12, 22, 10,  4, 23,  5, 15,\n",
       "        1, 19, 11, 29,  6, 26, 25,  9,  2, 15, 18, 11,  5, 19, 10,  2, 13,\n",
       "       21])"
      ]
     },
     "execution_count": 35,
     "metadata": {},
     "output_type": "execute_result"
    }
   ],
   "source": [
    "model = joblib.load('model_workout_plan')\n",
    "model.predict([[ 15. ,   0. ,  10.2]])\n",
    "model.predict(X_test)"
   ]
  },
  {
   "cell_type": "code",
   "execution_count": 43,
   "metadata": {},
   "outputs": [
    {
     "data": {
      "text/plain": [
       "0.6504854368932039"
      ]
     },
     "execution_count": 43,
     "metadata": {},
     "output_type": "execute_result"
    }
   ],
   "source": [
    "from sklearn.tree import DecisionTreeClassifier\n",
    "clf = DecisionTreeClassifier(random_state=10)\n",
    "clf.fit(X_train, y_train)\n",
    "clf.score(X_test, y_test)"
   ]
  },
  {
   "cell_type": "code",
   "execution_count": 62,
   "metadata": {},
   "outputs": [
    {
     "name": "stdout",
     "output_type": "stream",
     "text": [
      "p3.9\n"
     ]
    }
   ],
   "source": [
    "result = 32\n",
    "workout_plan = \"\"\n",
    "list = []\n",
    "for i in tmp_dic:\n",
    "      if i[\"workout_plan\"] == result:\n",
    "            workout_plan = i[\"workout_plan\"]\n"
   ]
  },
  {
   "cell_type": "code",
   "execution_count": 56,
   "metadata": {},
   "outputs": [
    {
     "data": {
      "text/plain": [
       "[dict_values([1, 'p1.0']),\n",
       " dict_values([2, 'p1.1']),\n",
       " dict_values([3, 'p1.10']),\n",
       " dict_values([4, 'p1.2']),\n",
       " dict_values([5, 'p1.3']),\n",
       " dict_values([6, 'p1.4']),\n",
       " dict_values([7, 'p1.5']),\n",
       " dict_values([8, 'p1.6']),\n",
       " dict_values([0, 'P1.7']),\n",
       " dict_values([9, 'p1.8']),\n",
       " dict_values([10, 'p1.9']),\n",
       " dict_values([11, 'p2.0']),\n",
       " dict_values([12, 'p2.1']),\n",
       " dict_values([13, 'p2.10']),\n",
       " dict_values([14, 'p2.2']),\n",
       " dict_values([15, 'p2.3']),\n",
       " dict_values([16, 'p2.4']),\n",
       " dict_values([17, 'p2.5']),\n",
       " dict_values([18, 'p2.6']),\n",
       " dict_values([19, 'p2.7']),\n",
       " dict_values([20, 'p2.8']),\n",
       " dict_values([21, 'p2.9']),\n",
       " dict_values([22, 'p3.0']),\n",
       " dict_values([23, 'p3.1']),\n",
       " dict_values([24, 'p3.10']),\n",
       " dict_values([25, 'p3.2']),\n",
       " dict_values([26, 'p3.3']),\n",
       " dict_values([27, 'p3.4']),\n",
       " dict_values([28, 'p3.5']),\n",
       " dict_values([29, 'p3.6']),\n",
       " dict_values([30, 'p3.7']),\n",
       " dict_values([31, 'p3.8']),\n",
       " dict_values([32, 'p3.9'])]"
      ]
     },
     "execution_count": 56,
     "metadata": {},
     "output_type": "execute_result"
    }
   ],
   "source": [
    "list"
   ]
  },
  {
   "cell_type": "code",
   "execution_count": null,
   "metadata": {},
   "outputs": [],
   "source": []
  }
 ],
 "metadata": {
  "kernelspec": {
   "display_name": "Python 3",
   "language": "python",
   "name": "python3"
  },
  "language_info": {
   "codemirror_mode": {
    "name": "ipython",
    "version": 3
   },
   "file_extension": ".py",
   "mimetype": "text/x-python",
   "name": "python",
   "nbconvert_exporter": "python",
   "pygments_lexer": "ipython3",
   "version": "3.7.7"
  }
 },
 "nbformat": 4,
 "nbformat_minor": 4
}
